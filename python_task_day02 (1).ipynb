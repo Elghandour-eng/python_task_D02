{
 "cells": [
  {
   "cell_type": "code",
   "execution_count": 1,
   "metadata": {},
   "outputs": [
    {
     "data": {
      "text/plain": [
       "[50, 51, 52, 53, 54, 55, 56, 57, 58, 59]"
      ]
     },
     "execution_count": 1,
     "metadata": {},
     "output_type": "execute_result"
    }
   ],
   "source": [
    "#Task 01\n",
    "def generateFunction(length, start): \n",
    "    l=[]\n",
    "    \n",
    "    for  i in range(length):\n",
    "        l.append(start+i)\n",
    "    return l\n",
    "    \n",
    "\n",
    "\n",
    "generateFunction(10,50)"
   ]
  },
  {
   "cell_type": "code",
   "execution_count": 49,
   "metadata": {},
   "outputs": [
    {
     "name": "stdout",
     "output_type": "stream",
     "text": [
      "Buzz\n",
      "Fizz\n",
      "Fizz  Buzz\n",
      "Not accepted by 3 or 5\n"
     ]
    }
   ],
   "source": [
    "#Task 2 \n",
    "def divideByFiveOrThree(num):\n",
    "    if num%3==0 and num%5==0:\n",
    "        print(\"Fizz  Buzz\")\n",
    "    elif num%5==0:\n",
    "        print(\"Buzz\")   \n",
    "    elif num%3==0 :\n",
    "        print(\"Fizz\")     \n",
    "    else:\n",
    "        print(\"Not accepted by 3 or 5\")           \n",
    "divideByFiveOrThree(40)\n",
    "divideByFiveOrThree(9)\n",
    "divideByFiveOrThree(15)\n",
    "divideByFiveOrThree(47)\n",
    "\n",
    "    "
   ]
  },
  {
   "cell_type": "code",
   "execution_count": 58,
   "metadata": {},
   "outputs": [
    {
     "name": "stdout",
     "output_type": "stream",
     "text": [
      "Please Enter value : Abdelwahab\n"
     ]
    },
    {
     "data": {
      "text/plain": [
       "'bahawledbA'"
      ]
     },
     "execution_count": 58,
     "metadata": {},
     "output_type": "execute_result"
    }
   ],
   "source": [
    "#Task 03\n",
    "def reverseInput():\n",
    "    val=input(\"Please Enter value : \")\n",
    "    return val[::-1]\n",
    "reverseInput()    "
   ]
  },
  {
   "cell_type": "code",
   "execution_count": 9,
   "metadata": {},
   "outputs": [
    {
     "name": "stdout",
     "output_type": "stream",
     "text": [
      "Please Enter your name : 4098\n",
      "Invalid name\n",
      "Please Enter your name : Abdelwahab\n",
      "Please Enter your Email : abdelwahab@gmail.com\n",
      "Hello  Abdelwahab\n",
      "Your Email : abdelwahab@gmail.com\n"
     ]
    }
   ],
   "source": [
    "#Task 04\n",
    "def getUserData():\n",
    "    name=input(\"Please Enter your name : \")\n",
    "    if name.isalpha()==True :\n",
    "        email=input(\"Please Enter your Email : \")\n",
    "        print(\"Hello \",name)\n",
    "        print(\"Your Email :\",email)\n",
    "    else:\n",
    "        print(\"Invalid name\")\n",
    "        getUserData()\n",
    "getUserData()        \n",
    "    "
   ]
  },
  {
   "cell_type": "code",
   "execution_count": 84,
   "metadata": {},
   "outputs": [
    {
     "name": "stdout",
     "output_type": "stream",
     "text": [
      "Please Enter text : abdazzzzz\n",
      "azzzzz\n"
     ]
    }
   ],
   "source": [
    "def getTheLongest():\n",
    "    text=input(\"Please Enter text : \")\n",
    "    ca=text[0]\n",
    "    long=text[0]\n",
    "    l=len(text)\n",
    "    \n",
    "    #for i,c in enumerate(text): \n",
    "    for c in text[1:]:\n",
    "        if(c>=text[-1]):\n",
    "            ca+=c\n",
    "            if len(ca)>len(long):\n",
    "                long=ca\n",
    "        else:\n",
    "            ca=c        \n",
    "    print(long)        \n",
    "        \n",
    "                 \n",
    "        \n",
    "\n",
    "getTheLongest()           "
   ]
  },
  {
   "cell_type": "code",
   "execution_count": 137,
   "metadata": {},
   "outputs": [
    {
     "name": "stdout",
     "output_type": "stream",
     "text": [
      "Please Enter text : 50\n",
      "Please Enter text : 10\n",
      "Please Enter text : 80\n",
      "Please Enter text : 60\n",
      "Please Enter text : 4\n",
      "Please Enter text : 456\n",
      "Please Enter text : d\n",
      "invalid input\n",
      "Please Enter text : ddone\n",
      "invalid input\n",
      "Please Enter text : done\n",
      "List =  [50.0, 10.0, 80.0, 60.0, 4.0, 456.0]\n",
      "Sum = 660.0\n",
      "Avg = 110.0\n",
      "Count = 6\n"
     ]
    }
   ],
   "source": [
    "def avgAndSumMethod():\n",
    "    l=[]\n",
    "    sum=0\n",
    "    avg=0\n",
    "    count=0\n",
    "    inut='0'\n",
    "    \n",
    "    \n",
    "    while True :\n",
    "        text=input(\"Please Enter text : \")\n",
    "        if text=='done': \n",
    "            print(\"List = \",l)\n",
    "            print(\"Sum =\",sum)\n",
    "            avg=sum/len(l)\n",
    "            print(\"Avg =\",avg)\n",
    "            print(\"Count =\",len(l))\n",
    "            break\n",
    "        elif text.isdigit(): \n",
    "            l.append(float(text)) \n",
    "            sum+=float(text)\n",
    "        else:\n",
    "            print('invalid input')\n",
    "            continue\n",
    "       \n",
    "            \n",
    "        \n",
    "        \n",
    "        \n",
    "\n",
    "          \n",
    "        \n",
    "avgAndSumMethod()        \n",
    "    "
   ]
  },
  {
   "cell_type": "raw",
   "metadata": {},
   "source": [
    "import random\n",
    "\n",
    "name=input('Please Enter your name')\n",
    "print(\"Hello \",name)\n",
    "words =['pyn','iti']\n",
    "print('You have 7 tries')\n",
    "tries=7\n",
    "r_word=random.choice(words)\n",
    "\n",
    "gessing =''\n",
    "while tries> 0:\n",
    "    still=len(r_word)\n",
    "    print(\"you still have \",tries)\n",
    "    char= input(\"Guess char : \")\n",
    "    tries-=1\n",
    "    if tries==0:\n",
    "        print(\"Failed\")\n",
    "        break\n",
    "    if still==0:\n",
    "        print(\"Good Work\")    \n",
    "        break\n",
    "    for  i,c in enumerate(r_word):\n",
    "        if char in r_word:\n",
    "            guessing+=c\n",
    "            print(guessing)\n",
    "            still-=1\n",
    "        elif char not in r_word:\n",
    "            print('-')\n",
    "\n",
    "         "
   ]
  },
  {
   "cell_type": "code",
   "execution_count": 1,
   "metadata": {},
   "outputs": [
    {
     "name": "stdout",
     "output_type": "stream",
     "text": [
      "the word : iti\n",
      "Enter your name : abdelwahab\n",
      "guess the word of 3 letters\n",
      "your guess ..... : i\n",
      "i*i\n",
      "your guess ..... : d\n",
      "Wrong guess try again you  have 5 trials  left \n",
      "your guess ..... : s\n",
      "Wrong guess try again you  have 4 trials  left \n",
      "your guess ..... : t\n",
      "iti\n",
      "you succeeded\n"
     ]
    }
   ],
   "source": [
    "import random\n",
    "space = [\"iti\",\"python\"]\n",
    "current_idx = random.randint(0,len(space)-1)\n",
    "current_word = space[current_idx]\n",
    "trials = 7\n",
    "guess=\"*\"*len(current_word)\n",
    "\n",
    "\n",
    "done = False\n",
    "\n",
    "print(f\"the word : {current_word}\")\n",
    "\n",
    "\n",
    "\n",
    "name = input(\"Enter your name : \")\n",
    "\n",
    "print(f\"guess the word of {len(current_word)} letters\")\n",
    "\n",
    "\n",
    "while(trials != 0 and not done):\n",
    "    \n",
    "    \n",
    "    cur_char = input(\"your guess ..... : \")\n",
    "    trials -=1\n",
    "    \n",
    "    \n",
    "    if cur_char in current_word:\n",
    "        for idx , c in enumerate(current_word):\n",
    "            if cur_char == c:\n",
    "                guess = guess[:idx] + c + guess[idx+1:]\n",
    "        print(guess)\n",
    "        if current_word == guess :\n",
    "            done = True\n",
    "        else:\n",
    "            continue\n",
    "        #print(guess)\n",
    "    \n",
    "    else:\n",
    "         print(f\"Wrong guess try again you  have {trials} trials  left \")\n",
    "            \n",
    "                \n",
    "    \n",
    "    \n",
    "else : \n",
    "    if \"-\" in guess:\n",
    "        print(\"you have failed\")\n",
    "    elif guess == current_word:\n",
    "        print(\"you succeeded\")\n",
    "\n",
    "         "
   ]
  },
  {
   "cell_type": "markdown",
   "metadata": {},
   "source": []
  },
  {
   "cell_type": "code",
   "execution_count": null,
   "metadata": {},
   "outputs": [],
   "source": []
  },
  {
   "cell_type": "code",
   "execution_count": null,
   "metadata": {},
   "outputs": [],
   "source": []
  }
 ],
 "metadata": {
  "kernelspec": {
   "display_name": "Python 3",
   "language": "python",
   "name": "python3"
  },
  "language_info": {
   "codemirror_mode": {
    "name": "ipython",
    "version": 3
   },
   "file_extension": ".py",
   "mimetype": "text/x-python",
   "name": "python",
   "nbconvert_exporter": "python",
   "pygments_lexer": "ipython3",
   "version": "3.8.5"
  }
 },
 "nbformat": 4,
 "nbformat_minor": 4
}
